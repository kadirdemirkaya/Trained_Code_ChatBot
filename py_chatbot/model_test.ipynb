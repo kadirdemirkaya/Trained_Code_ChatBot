{
 "cells": [
  {
   "cell_type": "code",
   "execution_count": 10,
   "metadata": {},
   "outputs": [
    {
     "name": "stdout",
     "output_type": "stream",
     "text": [
      "\n",
      "Generated Code:\n",
      " from flask import flask app = flask(__name__) @app.route('/') def home(): return def home(): return def home(): return return 'hello, api!'\n",
      "\n",
      "Generated Code:\n",
      " from flask import flask app = flask(__name__) @app.route('/') def home(): return def home(): return def home(): return return 'hello, api!'\n",
      "\n",
      "Generated Code:\n",
      " thread t = new thread => console.log('hello, hat!'));\n",
      "\n",
      "Goodbye!\n"
     ]
    }
   ],
   "source": [
    "from transformers import T5Tokenizer, T5ForConditionalGeneration\n",
    "import torch\n",
    "\n",
    "device = torch.device(\"cuda\" if torch.cuda.is_available() else \"cpu\")\n",
    "model = T5ForConditionalGeneration.from_pretrained(\"ft_model\").to(device)\n",
    "tokenizer = T5Tokenizer.from_pretrained(\"ft_model\")\n",
    "\n",
    "def generate_code(query):\n",
    "    input_text = \"generate code: \" + query.lower()\n",
    "    input_ids = tokenizer.encode(input_text, return_tensors=\"pt\", truncation=True).to(device)\n",
    "    outputs = model.generate(input_ids, max_length=512, num_beams=4, early_stopping=True)\n",
    "    return tokenizer.decode(outputs[0], skip_special_tokens=True)\n",
    "\n",
    "while True:\n",
    "    query = input(\"\\n\\nEnter your query (or type 'exit' to quit):\\n  \")\n",
    "    if query.lower() == \"exit\":\n",
    "        print(\"\\nGoodbye!\")\n",
    "        break\n",
    "    print(\"\\nGenerated Code:\\n\", generate_code(query))\n"
   ]
  }
 ],
 "metadata": {
  "kernelspec": {
   "display_name": ".venv",
   "language": "python",
   "name": "python3"
  },
  "language_info": {
   "codemirror_mode": {
    "name": "ipython",
    "version": 3
   },
   "file_extension": ".py",
   "mimetype": "text/x-python",
   "name": "python",
   "nbconvert_exporter": "python",
   "pygments_lexer": "ipython3",
   "version": "3.9.10"
  }
 },
 "nbformat": 4,
 "nbformat_minor": 2
}
